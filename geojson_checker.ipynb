{
 "cells": [
  {
   "cell_type": "code",
   "execution_count": 1,
   "metadata": {},
   "outputs": [],
   "source": [
    "import geopandas as gpd\n",
    "import numpy as np"
   ]
  },
  {
   "cell_type": "code",
   "execution_count": 2,
   "metadata": {},
   "outputs": [],
   "source": [
    "udf_before=gpd.read_file(r\"hillside_inventory_LA_centrality_full_new_evacmidnorth_lodes.geojson\")\n",
    "udf=gpd.read_file(r\"hillside_inventory_LA_centrality_full_new_evacmidnorth_lodes_kriging.geojson\")"
   ]
  },
  {
   "cell_type": "code",
   "execution_count": 5,
   "metadata": {},
   "outputs": [],
   "source": [
    "S000_new=np.array(udf[\"S000_adjusted\"])\n",
    "SA01_new=np.array(udf[\"SA01_adjusted\"])\n",
    "SA02_new=np.array(udf[\"SA02_adjusted\"])\n",
    "SA03_new=np.array(udf[\"SA03_adjusted\"])\n",
    "SE01_new=np.array(udf[\"SE01_adjusted\"])\n",
    "SE02_new=np.array(udf[\"SE02_adjusted\"])\n",
    "SE03_new=np.array(udf[\"SE03_adjusted\"])\n",
    "SI01_new=np.array(udf[\"SI01_adjusted\"])\n",
    "SI02_new=np.array(udf[\"SI02_adjusted\"])\n",
    "SI03_new=np.array(udf[\"SI03_adjusted\"])\n",
    "\n",
    "S000_orig=np.array(udf_before[\"S000_adjusted\"])\n",
    "SA01_orig=np.array(udf_before[\"SA01_adjusted\"])\n",
    "SA02_orig=np.array(udf_before[\"SA02_adjusted\"])\n",
    "SA03_orig=np.array(udf_before[\"SA03_adjusted\"])\n",
    "SE01_orig=np.array(udf_before[\"SE01_adjusted\"])\n",
    "SE02_orig=np.array(udf_before[\"SE02_adjusted\"])\n",
    "SE03_orig=np.array(udf_before[\"SE03_adjusted\"])\n",
    "SI01_orig=np.array(udf_before[\"SI01_adjusted\"])\n",
    "SI02_orig=np.array(udf_before[\"SI02_adjusted\"])\n",
    "SI03_orig=np.array(udf_before[\"SI03_adjusted\"])"
   ]
  },
  {
   "cell_type": "code",
   "execution_count": 6,
   "metadata": {},
   "outputs": [
    {
     "name": "stdout",
     "output_type": "stream",
     "text": [
      "0\n",
      "0\n",
      "0\n",
      "0\n",
      "0\n",
      "0\n",
      "0\n",
      "0\n",
      "0\n",
      "0\n"
     ]
    }
   ],
   "source": [
    "print(np.sum((S000_new!=S000_orig) & (S000_orig!=0)))\n",
    "print(np.sum((SA01_new!=SA01_orig) & (SA01_orig!=0)))\n",
    "print(np.sum((SA02_new!=SA02_orig) & (SA02_orig!=0)))\n",
    "print(np.sum((SA03_new!=SA03_orig) & (SA03_orig!=0)))\n",
    "print(np.sum((SE01_new!=SE01_orig) & (SE01_orig!=0)))\n",
    "print(np.sum((SE02_new!=SE02_orig) & (SE02_orig!=0)))\n",
    "print(np.sum((SE03_new!=SE03_orig) & (SE03_orig!=0)))\n",
    "print(np.sum((SI01_new!=SI01_orig) & (SI01_orig!=0)))\n",
    "print(np.sum((SI02_new!=SI02_orig) & (SI02_orig!=0)))\n",
    "print(np.sum((SI03_new!=SI03_orig) & (SI03_orig!=0)))"
   ]
  }
 ],
 "metadata": {
  "kernelspec": {
   "display_name": "Task_1_Graph_Junwon-uzoEHbxJ",
   "language": "python",
   "name": "python3"
  },
  "language_info": {
   "codemirror_mode": {
    "name": "ipython",
    "version": 3
   },
   "file_extension": ".py",
   "mimetype": "text/x-python",
   "name": "python",
   "nbconvert_exporter": "python",
   "pygments_lexer": "ipython3",
   "version": "3.10.2"
  }
 },
 "nbformat": 4,
 "nbformat_minor": 2
}
