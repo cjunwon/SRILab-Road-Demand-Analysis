{
 "cells": [
  {
   "cell_type": "code",
   "execution_count": 19,
   "metadata": {},
   "outputs": [],
   "source": [
    "# https://lehd.ces.census.gov/data/lodes/LODES8/ca/od/\n",
    "# https://lehd.ces.census.gov/data/\n",
    "# https://lehd.ces.census.gov/data/lodes/LODES8/ca/od/ca_od_main_JT00_2021.csv.gz"
   ]
  },
  {
   "cell_type": "code",
   "execution_count": 1,
   "metadata": {},
   "outputs": [],
   "source": [
    "import requests\n",
    "import time\n",
    "import gzip\n",
    "import shutil"
   ]
  },
  {
   "cell_type": "code",
   "execution_count": 8,
   "metadata": {},
   "outputs": [],
   "source": [
    "def download_and_unzip(year, lodes_url_base):\n",
    "    lodes_url = lodes_url_base + str(year) + \".csv.gz\"\n",
    "    r = requests.head(lodes_url)\n",
    "    if r.status_code == 200:\n",
    "        print(\"LEHD Origin-Destination Employment Statistics (LODES) for \" + str(year) + \" exists. To download, press enter.\")\n",
    "        input()\n",
    "        # download file\n",
    "        print(\"Downloading...\")\n",
    "        download_start = time.time()\n",
    "        r = requests.get(lodes_url, allow_redirects=True)\n",
    "        open('ca_od_main_JT00_' + str(year) + '.csv.gz', 'wb').write(r.content)\n",
    "        download_end = time.time()\n",
    "        print(\"Downloaded in: \" + str((download_end - download_start)/60) + \" minutes\")\n",
    "\n",
    "        # unzip file\n",
    "        print(\"Unzipping...\")\n",
    "        unzip_start = time.time()\n",
    "        with gzip.open('ca_od_main_JT00_' + str(year) + '.csv.gz', 'rb') as f_in:\n",
    "            with open('../lodes_od_data/ca_od_main_JT00_' + str(year) + '.csv', 'wb') as f_out:\n",
    "                shutil.copyfileobj(f_in, f_out)\n",
    "        unzip_end = time.time()\n",
    "        print(\"Unzipped in: \" + str((unzip_end - unzip_start)/60) + \" minutes\")\n",
    "        print(\"CSV file saved to: ../lodes_od_data/ca_od_main_JT00_\" + str(year) + \".csv\")\n",
    "        return True\n",
    "    else:\n",
    "        return False"
   ]
  },
  {
   "cell_type": "code",
   "execution_count": 9,
   "metadata": {},
   "outputs": [],
   "source": [
    "lodes_url_base = \"https://lehd.ces.census.gov/data/lodes/LODES8/ca/od/ca_od_main_JT00_\""
   ]
  },
  {
   "cell_type": "code",
   "execution_count": 11,
   "metadata": {},
   "outputs": [
    {
     "name": "stdout",
     "output_type": "stream",
     "text": [
      "LEHD Origin-Destination Employment Statistics (LODES) for 2024 does not exist. Checking for 2023...\n",
      "LEHD Origin-Destination Employment Statistics (LODES) for 2023 does not exist. Checking for 2022...\n",
      "LEHD Origin-Destination Employment Statistics (LODES) for 2022 does not exist. Checking for 2021...\n",
      "LEHD Origin-Destination Employment Statistics (LODES) for 2021 exists. To download, press enter.\n",
      "Downloading...\n",
      "Downloaded in: 3.4092824816703797 minutes\n",
      "Unzipping...\n",
      "Unzipped in: 0.05682069857915242 minutes\n",
      "CSV file saved to: ../lodes_od_data/ca_od_main_JT00_2021.csv\n"
     ]
    }
   ],
   "source": [
    "# fetch current year\n",
    "year = time.localtime().tm_year\n",
    "\n",
    "while True:\n",
    "    if download_and_unzip(year, lodes_url_base):\n",
    "        break\n",
    "    else:\n",
    "        print(\"LEHD Origin-Destination Employment Statistics (LODES) for \" + str(year) + \" does not exist. Checking for \" + str(year - 1) + \"...\")\n",
    "        year -= 1"
   ]
  },
  {
   "cell_type": "code",
   "execution_count": 22,
   "metadata": {},
   "outputs": [
    {
     "name": "stdout",
     "output_type": "stream",
     "text": [
      "LEHD Origin-Destination Employment Statistics (LODES) for 2030 does not exist. Please enter a valid year.\n",
      "LEHD Origin-Destination Employment Statistics (LODES) for 2019 exists. To download, press enter.\n",
      "Downloading...\n",
      "Downloaded in: 3.733450130621592 minutes\n",
      "Unzipping...\n",
      "Unzipped in: 0.07927983204523723 minutes\n",
      "CSV file saved to: ../lodes_od_data/ca_od_main_JT00_2019.csv\n"
     ]
    }
   ],
   "source": [
    "# METHOD 1: User Input Based\n",
    "\n",
    "while True:\n",
    "    # promt string input from user for year\n",
    "    year = input(\"Enter year: \")\n",
    "    # append year to base url\n",
    "    lodes_url = lodes_url_base + year + \".csv.gz\"\n",
    "    \n",
    "    # check if url exists, if so, download and unzip\n",
    "    r = requests.head(lodes_url)\n",
    "    if r.status_code == 200:\n",
    "        print(\"LEHD Origin-Destination Employment Statistics (LODES) for \" + year + \" exists. To download, press enter.\")\n",
    "        input()\n",
    "        # download file\n",
    "        print(\"Downloading...\")\n",
    "        download_start = time.time()\n",
    "        r = requests.get(lodes_url, allow_redirects=True)\n",
    "        open('ca_od_main_JT00_' + year + '.csv.gz', 'wb').write(r.content)\n",
    "        download_end = time.time()\n",
    "        print(\"Downloaded in: \" + str((download_end - download_start)/60) + \" minutes\")\n",
    "\n",
    "        # unzip file\n",
    "        print(\"Unzipping...\")\n",
    "        unzip_start = time.time()\n",
    "        with gzip.open('ca_od_main_JT00_' + year + '.csv.gz', 'rb') as f_in:\n",
    "            with open('../lodes_od_data/ca_od_main_JT00_' + year + '.csv', 'wb') as f_out:\n",
    "                shutil.copyfileobj(f_in, f_out)\n",
    "        unzip_end = time.time()\n",
    "        print(\"Unzipped in: \" + str((unzip_end - unzip_start)/60) + \" minutes\")\n",
    "        print(\"CSV file saved to: ../lodes_od_data/ca_od_main_JT00_\" + year + \".csv\")\n",
    "        break  # Exit the loop when the file is successfully downloaded and unzipped\n",
    "    \n",
    "    else:\n",
    "        print(\"LEHD Origin-Destination Employment Statistics (LODES) for \" + year + \" does not exist. Please enter a valid year.\")\n",
    "        year = input(\"Enter year: \")"
   ]
  }
 ],
 "metadata": {
  "kernelspec": {
   "display_name": "Task_1_Graph_Junwon-uzoEHbxJ",
   "language": "python",
   "name": "python3"
  },
  "language_info": {
   "codemirror_mode": {
    "name": "ipython",
    "version": 3
   },
   "file_extension": ".py",
   "mimetype": "text/x-python",
   "name": "python",
   "nbconvert_exporter": "python",
   "pygments_lexer": "ipython3",
   "version": "3.10.2"
  }
 },
 "nbformat": 4,
 "nbformat_minor": 2
}
