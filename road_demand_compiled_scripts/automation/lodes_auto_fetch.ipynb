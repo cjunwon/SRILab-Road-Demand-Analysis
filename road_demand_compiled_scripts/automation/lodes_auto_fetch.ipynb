{
 "cells": [
  {
   "cell_type": "code",
   "execution_count": 19,
   "metadata": {},
   "outputs": [],
   "source": [
    "# https://lehd.ces.census.gov/data/lodes/LODES8/ca/od/\n",
    "# https://lehd.ces.census.gov/data/\n",
    "# https://lehd.ces.census.gov/data/lodes/LODES8/ca/od/ca_od_main_JT00_2021.csv.gz"
   ]
  },
  {
   "cell_type": "code",
   "execution_count": 20,
   "metadata": {},
   "outputs": [],
   "source": [
    "import requests\n",
    "import time\n",
    "import gzip\n",
    "import shutil"
   ]
  },
  {
   "cell_type": "code",
   "execution_count": 21,
   "metadata": {},
   "outputs": [],
   "source": [
    "lodes_url_base = \"https://lehd.ces.census.gov/data/lodes/LODES8/ca/od/ca_od_main_JT00_\""
   ]
  },
  {
   "cell_type": "code",
   "execution_count": 16,
   "metadata": {},
   "outputs": [],
   "source": [
    "# promt string input from user for year\n",
    "# year = input(\"Enter year: \")"
   ]
  },
  {
   "cell_type": "code",
   "execution_count": 17,
   "metadata": {},
   "outputs": [],
   "source": [
    "# append year to base url\n",
    "# lodes_url = lodes_url_base + year + \".csv.gz\""
   ]
  },
  {
   "cell_type": "code",
   "execution_count": 22,
   "metadata": {},
   "outputs": [
    {
     "name": "stdout",
     "output_type": "stream",
     "text": [
      "LEHD Origin-Destination Employment Statistics (LODES) for 2030 does not exist. Please enter a valid year.\n",
      "LEHD Origin-Destination Employment Statistics (LODES) for 2019 exists. To download, press enter.\n",
      "Downloading...\n",
      "Downloaded in: 3.733450130621592 minutes\n",
      "Unzipping...\n",
      "Unzipped in: 0.07927983204523723 minutes\n",
      "CSV file saved to: ../lodes_od_data/ca_od_main_JT00_2019.csv\n"
     ]
    }
   ],
   "source": [
    "while True:\n",
    "    # promt string input from user for year\n",
    "    year = input(\"Enter year: \")\n",
    "    # append year to base url\n",
    "    lodes_url = lodes_url_base + year + \".csv.gz\"\n",
    "    \n",
    "    # check if url exists, if so, download and unzip\n",
    "    r = requests.head(lodes_url)\n",
    "    if r.status_code == 200:\n",
    "        print(\"LEHD Origin-Destination Employment Statistics (LODES) for \" + year + \" exists. To download, press enter.\")\n",
    "        input()\n",
    "        # download file\n",
    "        print(\"Downloading...\")\n",
    "        download_start = time.time()\n",
    "        r = requests.get(lodes_url, allow_redirects=True)\n",
    "        open('ca_od_main_JT00_' + year + '.csv.gz', 'wb').write(r.content)\n",
    "        download_end = time.time()\n",
    "        print(\"Downloaded in: \" + str((download_end - download_start)/60) + \" minutes\")\n",
    "\n",
    "        # unzip file\n",
    "        print(\"Unzipping...\")\n",
    "        unzip_start = time.time()\n",
    "        with gzip.open('ca_od_main_JT00_' + year + '.csv.gz', 'rb') as f_in:\n",
    "            with open('../lodes_od_data/ca_od_main_JT00_' + year + '.csv', 'wb') as f_out:\n",
    "                shutil.copyfileobj(f_in, f_out)\n",
    "        unzip_end = time.time()\n",
    "        print(\"Unzipped in: \" + str((unzip_end - unzip_start)/60) + \" minutes\")\n",
    "        print(\"CSV file saved to: ../lodes_od_data/ca_od_main_JT00_\" + year + \".csv\")\n",
    "        break  # Exit the loop when the file is successfully downloaded and unzipped\n",
    "    \n",
    "    else:\n",
    "        print(\"LEHD Origin-Destination Employment Statistics (LODES) for \" + year + \" does not exist. Please enter a valid year.\")\n",
    "        year = input(\"Enter year: \")"
   ]
  }
 ],
 "metadata": {
  "kernelspec": {
   "display_name": "Task_1_Graph_Junwon-uzoEHbxJ",
   "language": "python",
   "name": "python3"
  },
  "language_info": {
   "codemirror_mode": {
    "name": "ipython",
    "version": 3
   },
   "file_extension": ".py",
   "mimetype": "text/x-python",
   "name": "python",
   "nbconvert_exporter": "python",
   "pygments_lexer": "ipython3",
   "version": "3.10.2"
  }
 },
 "nbformat": 4,
 "nbformat_minor": 2
}
