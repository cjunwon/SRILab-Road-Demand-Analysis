{
 "cells": [
  {
   "cell_type": "code",
   "execution_count": 1,
   "metadata": {},
   "outputs": [],
   "source": [
    "import pickle\n",
    "import networkx as nx\n",
    "import pandas as pd\n",
    "import numpy as np\n",
    "import time"
   ]
  },
  {
   "cell_type": "code",
   "execution_count": 2,
   "metadata": {},
   "outputs": [],
   "source": [
    "with open(r'graph_centrality_codes/nodes_edges_weighted.pickle', 'rb') as handle:\n",
    "    B_matrix_weighted, node_coordinates_weighted = pickle.load(handle)\n",
    "    \n",
    "with open(r'graph_centrality_codes/distance.pickle', 'rb') as handle:\n",
    "    distance_array = pickle.load(handle)  \n",
    "    \n",
    "#distance_array (1st col - distance (m), 2nd col - time (s), 3rd col - time in traffic (s))"
   ]
  },
  {
   "cell_type": "code",
   "execution_count": 3,
   "metadata": {},
   "outputs": [],
   "source": [
    "with open(r\"script_output.pickle\",\"rb\") as handle:\n",
    "    origin_destination_path_list,no_connection_list,origin_destination_path_df,no_connection_df=pickle.load(handle)"
   ]
  },
  {
   "cell_type": "code",
   "execution_count": 15,
   "metadata": {},
   "outputs": [
    {
     "data": {
      "text/html": [
       "<div>\n",
       "<style scoped>\n",
       "    .dataframe tbody tr th:only-of-type {\n",
       "        vertical-align: middle;\n",
       "    }\n",
       "\n",
       "    .dataframe tbody tr th {\n",
       "        vertical-align: top;\n",
       "    }\n",
       "\n",
       "    .dataframe thead th {\n",
       "        text-align: right;\n",
       "    }\n",
       "</style>\n",
       "<table border=\"1\" class=\"dataframe\">\n",
       "  <thead>\n",
       "    <tr style=\"text-align: right;\">\n",
       "      <th></th>\n",
       "      <th>0</th>\n",
       "      <th>1</th>\n",
       "      <th>2</th>\n",
       "      <th>3</th>\n",
       "      <th>4</th>\n",
       "      <th>5</th>\n",
       "      <th>6</th>\n",
       "      <th>7</th>\n",
       "      <th>8</th>\n",
       "      <th>9</th>\n",
       "      <th>10</th>\n",
       "      <th>11</th>\n",
       "      <th>12</th>\n",
       "    </tr>\n",
       "  </thead>\n",
       "  <tbody>\n",
       "    <tr>\n",
       "      <th>0</th>\n",
       "      <td>1</td>\n",
       "      <td>173</td>\n",
       "      <td>[1, 0, 2, 4, 6, 5, 3, 34, 85, 91, 97, 110, 134...</td>\n",
       "      <td>0.055556</td>\n",
       "      <td>0.0</td>\n",
       "      <td>0.000000</td>\n",
       "      <td>0.055556</td>\n",
       "      <td>0.000000</td>\n",
       "      <td>0.0</td>\n",
       "      <td>0.055556</td>\n",
       "      <td>0.0</td>\n",
       "      <td>0.0</td>\n",
       "      <td>0.055556</td>\n",
       "    </tr>\n",
       "    <tr>\n",
       "      <th>1</th>\n",
       "      <td>1</td>\n",
       "      <td>195</td>\n",
       "      <td>[1, 0, 2, 4, 6, 5, 3, 34, 85, 159, 249, 243, 2...</td>\n",
       "      <td>0.055556</td>\n",
       "      <td>0.0</td>\n",
       "      <td>0.000000</td>\n",
       "      <td>0.055556</td>\n",
       "      <td>0.000000</td>\n",
       "      <td>0.0</td>\n",
       "      <td>0.055556</td>\n",
       "      <td>0.0</td>\n",
       "      <td>0.0</td>\n",
       "      <td>0.055556</td>\n",
       "    </tr>\n",
       "    <tr>\n",
       "      <th>2</th>\n",
       "      <td>1</td>\n",
       "      <td>223</td>\n",
       "      <td>[1, 0, 2, 4, 6, 5, 3, 34, 85, 159, 249, 243, 2...</td>\n",
       "      <td>0.055556</td>\n",
       "      <td>0.0</td>\n",
       "      <td>0.000000</td>\n",
       "      <td>0.055556</td>\n",
       "      <td>0.000000</td>\n",
       "      <td>0.0</td>\n",
       "      <td>0.055556</td>\n",
       "      <td>0.0</td>\n",
       "      <td>0.0</td>\n",
       "      <td>0.055556</td>\n",
       "    </tr>\n",
       "    <tr>\n",
       "      <th>3</th>\n",
       "      <td>1</td>\n",
       "      <td>3194</td>\n",
       "      <td>[1, 10, 13, 15, 17, 22, 25, 28, 46, 57, 94, 10...</td>\n",
       "      <td>0.166667</td>\n",
       "      <td>0.0</td>\n",
       "      <td>0.166667</td>\n",
       "      <td>0.000000</td>\n",
       "      <td>0.166667</td>\n",
       "      <td>0.0</td>\n",
       "      <td>0.000000</td>\n",
       "      <td>0.0</td>\n",
       "      <td>0.0</td>\n",
       "      <td>0.166667</td>\n",
       "    </tr>\n",
       "    <tr>\n",
       "      <th>4</th>\n",
       "      <td>1</td>\n",
       "      <td>183</td>\n",
       "      <td>[1, 10, 13, 15, 17, 22, 25, 28, 46, 57, 94, 10...</td>\n",
       "      <td>0.041667</td>\n",
       "      <td>0.0</td>\n",
       "      <td>0.041667</td>\n",
       "      <td>0.000000</td>\n",
       "      <td>0.000000</td>\n",
       "      <td>0.0</td>\n",
       "      <td>0.041667</td>\n",
       "      <td>0.0</td>\n",
       "      <td>0.0</td>\n",
       "      <td>0.041667</td>\n",
       "    </tr>\n",
       "    <tr>\n",
       "      <th>...</th>\n",
       "      <td>...</td>\n",
       "      <td>...</td>\n",
       "      <td>...</td>\n",
       "      <td>...</td>\n",
       "      <td>...</td>\n",
       "      <td>...</td>\n",
       "      <td>...</td>\n",
       "      <td>...</td>\n",
       "      <td>...</td>\n",
       "      <td>...</td>\n",
       "      <td>...</td>\n",
       "      <td>...</td>\n",
       "      <td>...</td>\n",
       "    </tr>\n",
       "    <tr>\n",
       "      <th>5162826</th>\n",
       "      <td>50121</td>\n",
       "      <td>22847</td>\n",
       "      <td>[50121, 17745, 17843, 17934, 18131, 18031, 179...</td>\n",
       "      <td>0.500000</td>\n",
       "      <td>0.0</td>\n",
       "      <td>0.500000</td>\n",
       "      <td>0.000000</td>\n",
       "      <td>0.500000</td>\n",
       "      <td>0.0</td>\n",
       "      <td>0.000000</td>\n",
       "      <td>0.0</td>\n",
       "      <td>0.0</td>\n",
       "      <td>0.500000</td>\n",
       "    </tr>\n",
       "    <tr>\n",
       "      <th>5162827</th>\n",
       "      <td>50121</td>\n",
       "      <td>23278</td>\n",
       "      <td>[50121, 17745, 17843, 17934, 18131, 18031, 179...</td>\n",
       "      <td>0.166667</td>\n",
       "      <td>0.0</td>\n",
       "      <td>0.000000</td>\n",
       "      <td>0.166667</td>\n",
       "      <td>0.166667</td>\n",
       "      <td>0.0</td>\n",
       "      <td>0.000000</td>\n",
       "      <td>0.0</td>\n",
       "      <td>0.0</td>\n",
       "      <td>0.166667</td>\n",
       "    </tr>\n",
       "    <tr>\n",
       "      <th>5162828</th>\n",
       "      <td>50121</td>\n",
       "      <td>23295</td>\n",
       "      <td>[50121, 17745, 17843, 17934, 18131, 18031, 179...</td>\n",
       "      <td>0.166667</td>\n",
       "      <td>0.0</td>\n",
       "      <td>0.000000</td>\n",
       "      <td>0.166667</td>\n",
       "      <td>0.166667</td>\n",
       "      <td>0.0</td>\n",
       "      <td>0.000000</td>\n",
       "      <td>0.0</td>\n",
       "      <td>0.0</td>\n",
       "      <td>0.166667</td>\n",
       "    </tr>\n",
       "    <tr>\n",
       "      <th>5162829</th>\n",
       "      <td>50121</td>\n",
       "      <td>48260</td>\n",
       "      <td>[50121, 17745, 17843, 17934, 18131, 18031, 179...</td>\n",
       "      <td>0.166667</td>\n",
       "      <td>0.0</td>\n",
       "      <td>0.000000</td>\n",
       "      <td>0.166667</td>\n",
       "      <td>0.166667</td>\n",
       "      <td>0.0</td>\n",
       "      <td>0.000000</td>\n",
       "      <td>0.0</td>\n",
       "      <td>0.0</td>\n",
       "      <td>0.166667</td>\n",
       "    </tr>\n",
       "    <tr>\n",
       "      <th>5162830</th>\n",
       "      <td>50121</td>\n",
       "      <td>17938</td>\n",
       "      <td>[50121, 17745, 17843, 17934, 18131, 18031, 179...</td>\n",
       "      <td>0.500000</td>\n",
       "      <td>0.0</td>\n",
       "      <td>0.500000</td>\n",
       "      <td>0.000000</td>\n",
       "      <td>0.000000</td>\n",
       "      <td>0.0</td>\n",
       "      <td>0.500000</td>\n",
       "      <td>0.0</td>\n",
       "      <td>0.5</td>\n",
       "      <td>0.000000</td>\n",
       "    </tr>\n",
       "  </tbody>\n",
       "</table>\n",
       "<p>5162831 rows × 13 columns</p>\n",
       "</div>"
      ],
      "text/plain": [
       "            0      1                                                  2   \\\n",
       "0            1    173  [1, 0, 2, 4, 6, 5, 3, 34, 85, 91, 97, 110, 134...   \n",
       "1            1    195  [1, 0, 2, 4, 6, 5, 3, 34, 85, 159, 249, 243, 2...   \n",
       "2            1    223  [1, 0, 2, 4, 6, 5, 3, 34, 85, 159, 249, 243, 2...   \n",
       "3            1   3194  [1, 10, 13, 15, 17, 22, 25, 28, 46, 57, 94, 10...   \n",
       "4            1    183  [1, 10, 13, 15, 17, 22, 25, 28, 46, 57, 94, 10...   \n",
       "...        ...    ...                                                ...   \n",
       "5162826  50121  22847  [50121, 17745, 17843, 17934, 18131, 18031, 179...   \n",
       "5162827  50121  23278  [50121, 17745, 17843, 17934, 18131, 18031, 179...   \n",
       "5162828  50121  23295  [50121, 17745, 17843, 17934, 18131, 18031, 179...   \n",
       "5162829  50121  48260  [50121, 17745, 17843, 17934, 18131, 18031, 179...   \n",
       "5162830  50121  17938  [50121, 17745, 17843, 17934, 18131, 18031, 179...   \n",
       "\n",
       "               3    4         5         6         7    8         9    10   11  \\\n",
       "0        0.055556  0.0  0.000000  0.055556  0.000000  0.0  0.055556  0.0  0.0   \n",
       "1        0.055556  0.0  0.000000  0.055556  0.000000  0.0  0.055556  0.0  0.0   \n",
       "2        0.055556  0.0  0.000000  0.055556  0.000000  0.0  0.055556  0.0  0.0   \n",
       "3        0.166667  0.0  0.166667  0.000000  0.166667  0.0  0.000000  0.0  0.0   \n",
       "4        0.041667  0.0  0.041667  0.000000  0.000000  0.0  0.041667  0.0  0.0   \n",
       "...           ...  ...       ...       ...       ...  ...       ...  ...  ...   \n",
       "5162826  0.500000  0.0  0.500000  0.000000  0.500000  0.0  0.000000  0.0  0.0   \n",
       "5162827  0.166667  0.0  0.000000  0.166667  0.166667  0.0  0.000000  0.0  0.0   \n",
       "5162828  0.166667  0.0  0.000000  0.166667  0.166667  0.0  0.000000  0.0  0.0   \n",
       "5162829  0.166667  0.0  0.000000  0.166667  0.166667  0.0  0.000000  0.0  0.0   \n",
       "5162830  0.500000  0.0  0.500000  0.000000  0.000000  0.0  0.500000  0.0  0.5   \n",
       "\n",
       "               12  \n",
       "0        0.055556  \n",
       "1        0.055556  \n",
       "2        0.055556  \n",
       "3        0.166667  \n",
       "4        0.041667  \n",
       "...           ...  \n",
       "5162826  0.500000  \n",
       "5162827  0.166667  \n",
       "5162828  0.166667  \n",
       "5162829  0.166667  \n",
       "5162830  0.000000  \n",
       "\n",
       "[5162831 rows x 13 columns]"
      ]
     },
     "execution_count": 15,
     "metadata": {},
     "output_type": "execute_result"
    }
   ],
   "source": [
    "# origin_destination_path_df\n",
    "\n",
    "# 0: origin_id\n",
    "# 1: destination_id\n",
    "# 2: path\n",
    "# 3: S000_adjusted\n",
    "# 4: SA01_adjusted\n",
    "# 5: SA02_adjusted\n",
    "# 6: SA03_adjusted\n",
    "# 7: SE01_adjusted\n",
    "# 8: SE02_adjusted\n",
    "# 9: SE03_adjusted\n",
    "# 10: SI01_adjusted\n",
    "# 11: SI02_adjusted\n",
    "# 12: SI03_adjusted"
   ]
  },
  {
   "cell_type": "code",
   "execution_count": 4,
   "metadata": {},
   "outputs": [
    {
     "name": "stdout",
     "output_type": "stream",
     "text": [
      "Number of rows in df: 5162831\n"
     ]
    }
   ],
   "source": [
    "print('Number of rows in df: ' + str(len(origin_destination_path_list)))"
   ]
  },
  {
   "cell_type": "code",
   "execution_count": null,
   "metadata": {},
   "outputs": [],
   "source": [
    "# Make a copy of the origin_destination_path_list and origin_destination_path_df\n",
    "\n",
    "# origin_destination_path_list_copy = origin_destination_path_list.copy()\n",
    "# origin_destination_path_df_copy = origin_destination_path_df.copy()"
   ]
  },
  {
   "cell_type": "code",
   "execution_count": 5,
   "metadata": {},
   "outputs": [],
   "source": [
    "# Subset of origin_destination_path_list and origin_destination_path_df\n",
    "\n",
    "origin_destination_path_list_copy = origin_destination_path_list[0:1000]\n",
    "origin_destination_path_df_copy = origin_destination_path_df[0:1000]"
   ]
  },
  {
   "cell_type": "code",
   "execution_count": 6,
   "metadata": {},
   "outputs": [
    {
     "name": "stdout",
     "output_type": "stream",
     "text": [
      "Total elements in the paths of the origin_destination_path_list_copy: 42003\n",
      "Total elements in the paths of the origin_destination_path_list: 575769651\n"
     ]
    }
   ],
   "source": [
    "# Count how many elements there are total in the paths of the origin_destination_path_list_copy\n",
    "\n",
    "total_elements_copy = 0\n",
    "\n",
    "for i in range(len(origin_destination_path_list_copy)):\n",
    "    total_elements_copy += len(origin_destination_path_list_copy[i][2])\n",
    "\n",
    "\n",
    "# Count how many elements there are total in the paths of the origin_destination_path_list\n",
    "\n",
    "total_elements = 0\n",
    "\n",
    "for i in range(len(origin_destination_path_list)):\n",
    "    total_elements += len(origin_destination_path_list[i][2])\n",
    "\n",
    "\n",
    "print('Total elements in the paths of the origin_destination_path_list_copy: ' + str(total_elements_copy))\n",
    "print('Total elements in the paths of the origin_destination_path_list: ' + str(total_elements))"
   ]
  },
  {
   "cell_type": "code",
   "execution_count": 18,
   "metadata": {},
   "outputs": [],
   "source": [
    "ratio = total_elements / total_elements_copy"
   ]
  },
  {
   "cell_type": "code",
   "execution_count": 14,
   "metadata": {},
   "outputs": [],
   "source": [
    "# Rename columns\n",
    "\n",
    "origin_destination_path_df_copy.columns = ['origin_id', 'destination_id', 'path', 'S000_adjusted', 'SA01_adjusted', 'SA02_adjusted', 'SA03_adjusted', 'SE01_adjusted', 'SE02_adjusted', 'SE03_adjusted', 'SI01_adjusted', 'SI02_adjusted', 'SI03_adjusted']"
   ]
  },
  {
   "cell_type": "code",
   "execution_count": 9,
   "metadata": {},
   "outputs": [
    {
     "name": "stdout",
     "output_type": "stream",
     "text": [
      "2602\n"
     ]
    }
   ],
   "source": [
    "pairlist_actual=[]\n",
    "\n",
    "for j in range(len(origin_destination_path_list_copy)):\n",
    "    path = origin_destination_path_list_copy[j][2]\n",
    "    for i in range(len(path) - 1):\n",
    "        pair=(min([path[i],path[i+1]]),max([path[i],path[i+1]]))\n",
    "        if pair not in pairlist_actual:\n",
    "            pairlist_actual.append(pair)\n",
    "\n",
    "print(len(pairlist_actual))"
   ]
  },
  {
   "cell_type": "code",
   "execution_count": 10,
   "metadata": {},
   "outputs": [],
   "source": [
    "# Initialize array of 0s with 10 columns and add to B_matrix_weighted\n",
    "zero_columns = np.zeros((B_matrix_weighted.shape[0], 10))\n",
    "B_matrix_weighted_array = np.hstack((B_matrix_weighted, zero_columns))\n",
    "B_matrix_weighted_array = B_matrix_weighted_array.astype(float)"
   ]
  },
  {
   "cell_type": "code",
   "execution_count": 11,
   "metadata": {},
   "outputs": [
    {
     "name": "stdout",
     "output_type": "stream",
     "text": [
      "(70983, 16)\n"
     ]
    }
   ],
   "source": [
    "print(B_matrix_weighted_array.shape)"
   ]
  },
  {
   "cell_type": "code",
   "execution_count": 12,
   "metadata": {},
   "outputs": [],
   "source": [
    "# B_matrix_weighted_df = pd.DataFrame(B_matrix_weighted_array)\n",
    "# B_matrix_weighted_df"
   ]
  },
  {
   "cell_type": "code",
   "execution_count": 41,
   "metadata": {},
   "outputs": [
    {
     "name": "stdout",
     "output_type": "stream",
     "text": [
      "8.058660984039307\n",
      "745\n"
     ]
    }
   ],
   "source": [
    "# Approach 1: Indexing the original B_matrix_weighted in array form (Linear, very slow)\n",
    "\n",
    "start=time.time()\n",
    "pairlist_test_1=[]\n",
    "\n",
    "for index, row in origin_destination_path_df_copy.iterrows():\n",
    "    path = row['path']\n",
    "    for i in range(len(path) - 1):\n",
    "        \n",
    "        idx = np.where((B_matrix_weighted_array[:, 0] == path[i]) & (B_matrix_weighted_array[:, 1] == path[i+1]))[0]\n",
    "\n",
    "        if len(idx) > 0:\n",
    "            B_matrix_weighted_array[idx[0], 6] = B_matrix_weighted_array[idx[0], 6] + row['S000_adjusted']\n",
    "            B_matrix_weighted_array[idx[0], 7] = B_matrix_weighted_array[idx[0], 7] + row['SA01_adjusted']\n",
    "            B_matrix_weighted_array[idx[0], 8] = B_matrix_weighted_array[idx[0], 8] + row['SA02_adjusted']\n",
    "            B_matrix_weighted_array[idx[0], 9] = B_matrix_weighted_array[idx[0], 9] + row['SA03_adjusted']\n",
    "            B_matrix_weighted_array[idx[0], 10] = B_matrix_weighted_array[idx[0], 10] + row['SE01_adjusted']\n",
    "            B_matrix_weighted_array[idx[0], 11] = B_matrix_weighted_array[idx[0], 11] + row['SE02_adjusted']\n",
    "            B_matrix_weighted_array[idx[0], 12] = B_matrix_weighted_array[idx[0], 12] + row['SE03_adjusted']\n",
    "            B_matrix_weighted_array[idx[0], 13] = B_matrix_weighted_array[idx[0], 13] + row['SI01_adjusted']\n",
    "            B_matrix_weighted_array[idx[0], 14] = B_matrix_weighted_array[idx[0], 14] + row['SI02_adjusted']\n",
    "            B_matrix_weighted_array[idx[0], 15] = B_matrix_weighted_array[idx[0], 15] + row['SI03_adjusted']\n",
    "        elif len(idx) == 0:\n",
    "            idx = np.where((B_matrix_weighted_array[:, 1] == path[i]) & (B_matrix_weighted_array[:, 0] == path[i+1]))[0]\n",
    "            if len(idx) > 0:\n",
    "                B_matrix_weighted_array[idx[0], 6] = B_matrix_weighted_array[idx[0], 6] + row['S000_adjusted']\n",
    "                B_matrix_weighted_array[idx[0], 7] = B_matrix_weighted_array[idx[0], 7] + row['SA01_adjusted']\n",
    "                B_matrix_weighted_array[idx[0], 8] = B_matrix_weighted_array[idx[0], 8] + row['SA02_adjusted']\n",
    "                B_matrix_weighted_array[idx[0], 9] = B_matrix_weighted_array[idx[0], 9] + row['SA03_adjusted']\n",
    "                B_matrix_weighted_array[idx[0], 10] = B_matrix_weighted_array[idx[0], 10] + row['SE01_adjusted']\n",
    "                B_matrix_weighted_array[idx[0], 11] = B_matrix_weighted_array[idx[0], 11] + row['SE02_adjusted']\n",
    "                B_matrix_weighted_array[idx[0], 12] = B_matrix_weighted_array[idx[0], 12] + row['SE03_adjusted']\n",
    "                B_matrix_weighted_array[idx[0], 13] = B_matrix_weighted_array[idx[0], 13] + row['SI01_adjusted']\n",
    "                B_matrix_weighted_array[idx[0], 14] = B_matrix_weighted_array[idx[0], 14] + row['SI02_adjusted']\n",
    "                B_matrix_weighted_array[idx[0], 15] = B_matrix_weighted_array[idx[0], 15] + row['SI03_adjusted']\n",
    "        if idx[0]not in pairlist_test_1:\n",
    "            pairlist_test_1.append(idx[0])\n",
    "\n",
    "end=time.time()\n",
    "\n",
    "print(end-start)\n",
    "print(len(pairlist_test_1))"
   ]
  },
  {
   "cell_type": "code",
   "execution_count": 44,
   "metadata": {},
   "outputs": [
    {
     "name": "stdout",
     "output_type": "stream",
     "text": [
      "745\n"
     ]
    }
   ],
   "source": [
    "print(len(np.unique(pairlist_test_1)))"
   ]
  },
  {
   "cell_type": "code",
   "execution_count": 45,
   "metadata": {},
   "outputs": [
    {
     "name": "stdout",
     "output_type": "stream",
     "text": [
      "745\n"
     ]
    }
   ],
   "source": [
    "print(sum(B_matrix_weighted_array[:, 6] != 0))"
   ]
  },
  {
   "cell_type": "code",
   "execution_count": 15,
   "metadata": {},
   "outputs": [
    {
     "name": "stdout",
     "output_type": "stream",
     "text": [
      "23.588637828826904\n"
     ]
    }
   ],
   "source": [
    "# Approach 2: Converting B_matrix_weighted to a dictionary for faster lookups (O(1) lookups, faster)\n",
    "\n",
    "# Convert B_matrix_weighted_array to a dictionary for faster lookups\n",
    "B_matrix_weighted_dict = {(row[0], row[1]): row for row in B_matrix_weighted_array}\n",
    "\n",
    "start = time.time()\n",
    "\n",
    "for _, row in origin_destination_path_df_copy.iterrows():\n",
    "    path = row['path']\n",
    "    for i in range(len(path) - 1):\n",
    "        pair = (path[i], path[i+1])\n",
    "        reverse_pair = (path[i+1], path[i])\n",
    "\n",
    "        if pair in B_matrix_weighted_dict:\n",
    "            B_matrix_weighted_dict[pair][6:16] += row['S000_adjusted':'SI03_adjusted']\n",
    "        elif reverse_pair in B_matrix_weighted_dict:\n",
    "            B_matrix_weighted_dict[reverse_pair][6:16] += row['S000_adjusted':'SI03_adjusted']\n",
    "\n",
    "# Convert the dictionary back to a numpy array\n",
    "B_matrix_weighted_array = np.array(list(B_matrix_weighted_dict.values()))\n",
    "\n",
    "end = time.time()\n",
    "\n",
    "print(end - start)"
   ]
  },
  {
   "cell_type": "code",
   "execution_count": 16,
   "metadata": {},
   "outputs": [
    {
     "data": {
      "text/plain": [
       "2602"
      ]
     },
     "execution_count": 16,
     "metadata": {},
     "output_type": "execute_result"
    }
   ],
   "source": [
    "len(B_matrix_weighted_array[B_matrix_weighted_array[:, 6] != 0])"
   ]
  },
  {
   "cell_type": "code",
   "execution_count": 19,
   "metadata": {},
   "outputs": [
    {
     "data": {
      "text/plain": [
       "323348.85056469927"
      ]
     },
     "execution_count": 19,
     "metadata": {},
     "output_type": "execute_result"
    }
   ],
   "source": [
    "# Estimated time to run the entire origin_destination_path_df\n",
    "\n",
    "test_time = (end - start) * ratio"
   ]
  },
  {
   "cell_type": "code",
   "execution_count": 22,
   "metadata": {},
   "outputs": [
    {
     "data": {
      "text/plain": [
       "3.742453703703704"
      ]
     },
     "execution_count": 22,
     "metadata": {},
     "output_type": "execute_result"
    }
   ],
   "source": [
    "print(test_time / 60 / 60 / 24)"
   ]
  },
  {
   "cell_type": "code",
   "execution_count": 33,
   "metadata": {},
   "outputs": [
    {
     "name": "stderr",
     "output_type": "stream",
     "text": [
      "/var/folders/6m/88dwrhnx7m3cybxwl1p0rtq40000gn/T/ipykernel_95611/2527138943.py:12: FutureWarning: Setting an item of incompatible dtype is deprecated and will raise in a future error of pandas. Value '[0.05555556]' has dtype incompatible with int64, please explicitly cast to a compatible dtype first.\n",
      "  B_matrix_weighted_df.loc[(B_matrix_weighted_df[0] == row['path'][i]) & (B_matrix_weighted_df[1] == row['path'][i + 1]), 6] += row['S000_adjusted']\n"
     ]
    },
    {
     "name": "stdout",
     "output_type": "stream",
     "text": [
      "112.89699602127075\n"
     ]
    }
   ],
   "source": [
    "# # Approach 2: Indexing the original B_matrix_weighted in dataframe form (This would be slower than the first approach but is working)\n",
    "\n",
    "# This iterates over each row of the origin_destination_path_df dataframe and for each row, it iterates over each pair of adjacent nodes in the path column.\n",
    "# For each pair of nodes, it checks if the nodes are present in the first and second columns (or reversed) of the B_matrix_weighted_df dataframe.\n",
    "# If the nodes are present, it adds the S000_adjusted value to the 6th column of the B_matrix_weighted_df dataframe.\n",
    "\n",
    "# start=time.time()\n",
    "\n",
    "# for index, row in origin_destination_path_df.iterrows():\n",
    "#     for i in range(len(row['path']) - 1):\n",
    "#         if (row['path'][i] in B_matrix_weighted_df[0] and row['path'][i + 1] in B_matrix_weighted_df[1]):\n",
    "#             B_matrix_weighted_df.loc[(B_matrix_weighted_df[0] == row['path'][i]) & (B_matrix_weighted_df[1] == row['path'][i + 1]), 6] += row['S000_adjusted']\n",
    "#             # print(B_matrix_weighted_df.loc[(B_matrix_weighted_df[0] == row['path'][i]) & (B_matrix_weighted_df[1] == row['path'][i + 1])])\n",
    "#         elif (row['path'][i+1] in B_matrix_weighted_df[0] and row['path'][i] in B_matrix_weighted_df[1]):\n",
    "#             B_matrix_weighted_df.loc[(B_matrix_weighted_df[1] == row['path'][i]) & (B_matrix_weighted_df[0] == row['path'][i + 1]), 6] += row['S000_adjusted']\n",
    "#             # print(B_matrix_weighted_df.loc[(B_matrix_weighted_df[0] == row['path'][i]) & (B_matrix_weighted_df[1] == row['path'][i + 1])])\n",
    "\n",
    "# end=time.time()\n",
    "\n",
    "# print(end-start)"
   ]
  },
  {
   "cell_type": "code",
   "execution_count": 34,
   "metadata": {},
   "outputs": [
    {
     "name": "stdout",
     "output_type": "stream",
     "text": [
      "1006\n"
     ]
    }
   ],
   "source": [
    "# print(len(B_matrix_weighted_df[B_matrix_weighted_df[6] != 0]))"
   ]
  },
  {
   "cell_type": "code",
   "execution_count": 43,
   "metadata": {},
   "outputs": [
    {
     "data": {
      "text/html": [
       "<div>\n",
       "<style scoped>\n",
       "    .dataframe tbody tr th:only-of-type {\n",
       "        vertical-align: middle;\n",
       "    }\n",
       "\n",
       "    .dataframe tbody tr th {\n",
       "        vertical-align: top;\n",
       "    }\n",
       "\n",
       "    .dataframe thead th {\n",
       "        text-align: right;\n",
       "    }\n",
       "</style>\n",
       "<table border=\"1\" class=\"dataframe\">\n",
       "  <thead>\n",
       "    <tr style=\"text-align: right;\">\n",
       "      <th></th>\n",
       "      <th>0</th>\n",
       "      <th>1</th>\n",
       "      <th>2</th>\n",
       "      <th>3</th>\n",
       "      <th>4</th>\n",
       "      <th>5</th>\n",
       "      <th>6</th>\n",
       "      <th>7</th>\n",
       "      <th>8</th>\n",
       "      <th>9</th>\n",
       "      <th>10</th>\n",
       "      <th>11</th>\n",
       "      <th>12</th>\n",
       "      <th>13</th>\n",
       "      <th>14</th>\n",
       "      <th>15</th>\n",
       "    </tr>\n",
       "  </thead>\n",
       "  <tbody>\n",
       "    <tr>\n",
       "      <th>0</th>\n",
       "      <td>31017</td>\n",
       "      <td>30686</td>\n",
       "      <td>640120</td>\n",
       "      <td>684</td>\n",
       "      <td>24</td>\n",
       "      <td>55</td>\n",
       "      <td>0.0</td>\n",
       "      <td>0</td>\n",
       "      <td>0</td>\n",
       "      <td>0</td>\n",
       "      <td>0</td>\n",
       "      <td>0</td>\n",
       "      <td>0</td>\n",
       "      <td>0</td>\n",
       "      <td>0</td>\n",
       "      <td>0</td>\n",
       "    </tr>\n",
       "    <tr>\n",
       "      <th>1</th>\n",
       "      <td>40651</td>\n",
       "      <td>40669</td>\n",
       "      <td>3976160</td>\n",
       "      <td>340</td>\n",
       "      <td>28</td>\n",
       "      <td>23</td>\n",
       "      <td>0.0</td>\n",
       "      <td>0</td>\n",
       "      <td>0</td>\n",
       "      <td>0</td>\n",
       "      <td>0</td>\n",
       "      <td>0</td>\n",
       "      <td>0</td>\n",
       "      <td>0</td>\n",
       "      <td>0</td>\n",
       "      <td>0</td>\n",
       "    </tr>\n",
       "    <tr>\n",
       "      <th>2</th>\n",
       "      <td>15202</td>\n",
       "      <td>15358</td>\n",
       "      <td>1417450</td>\n",
       "      <td>642</td>\n",
       "      <td>36</td>\n",
       "      <td>322</td>\n",
       "      <td>0.0</td>\n",
       "      <td>0</td>\n",
       "      <td>0</td>\n",
       "      <td>0</td>\n",
       "      <td>0</td>\n",
       "      <td>0</td>\n",
       "      <td>0</td>\n",
       "      <td>0</td>\n",
       "      <td>0</td>\n",
       "      <td>0</td>\n",
       "    </tr>\n",
       "    <tr>\n",
       "      <th>3</th>\n",
       "      <td>15276</td>\n",
       "      <td>15427</td>\n",
       "      <td>1417420</td>\n",
       "      <td>642</td>\n",
       "      <td>36</td>\n",
       "      <td>261</td>\n",
       "      <td>0.0</td>\n",
       "      <td>0</td>\n",
       "      <td>0</td>\n",
       "      <td>0</td>\n",
       "      <td>0</td>\n",
       "      <td>0</td>\n",
       "      <td>0</td>\n",
       "      <td>0</td>\n",
       "      <td>0</td>\n",
       "      <td>0</td>\n",
       "    </tr>\n",
       "    <tr>\n",
       "      <th>4</th>\n",
       "      <td>15358</td>\n",
       "      <td>15473</td>\n",
       "      <td>1417460</td>\n",
       "      <td>294</td>\n",
       "      <td>36</td>\n",
       "      <td>83</td>\n",
       "      <td>0.0</td>\n",
       "      <td>0</td>\n",
       "      <td>0</td>\n",
       "      <td>0</td>\n",
       "      <td>0</td>\n",
       "      <td>0</td>\n",
       "      <td>0</td>\n",
       "      <td>0</td>\n",
       "      <td>0</td>\n",
       "      <td>0</td>\n",
       "    </tr>\n",
       "    <tr>\n",
       "      <th>...</th>\n",
       "      <td>...</td>\n",
       "      <td>...</td>\n",
       "      <td>...</td>\n",
       "      <td>...</td>\n",
       "      <td>...</td>\n",
       "      <td>...</td>\n",
       "      <td>...</td>\n",
       "      <td>...</td>\n",
       "      <td>...</td>\n",
       "      <td>...</td>\n",
       "      <td>...</td>\n",
       "      <td>...</td>\n",
       "      <td>...</td>\n",
       "      <td>...</td>\n",
       "      <td>...</td>\n",
       "      <td>...</td>\n",
       "    </tr>\n",
       "    <tr>\n",
       "      <th>70978</th>\n",
       "      <td>37860</td>\n",
       "      <td>37869</td>\n",
       "      <td>4728880</td>\n",
       "      <td>195</td>\n",
       "      <td>36</td>\n",
       "      <td>6</td>\n",
       "      <td>0.0</td>\n",
       "      <td>0</td>\n",
       "      <td>0</td>\n",
       "      <td>0</td>\n",
       "      <td>0</td>\n",
       "      <td>0</td>\n",
       "      <td>0</td>\n",
       "      <td>0</td>\n",
       "      <td>0</td>\n",
       "      <td>0</td>\n",
       "    </tr>\n",
       "    <tr>\n",
       "      <th>70979</th>\n",
       "      <td>37860</td>\n",
       "      <td>37862</td>\n",
       "      <td>4728870</td>\n",
       "      <td>195</td>\n",
       "      <td>36</td>\n",
       "      <td>1</td>\n",
       "      <td>0.0</td>\n",
       "      <td>0</td>\n",
       "      <td>0</td>\n",
       "      <td>0</td>\n",
       "      <td>0</td>\n",
       "      <td>0</td>\n",
       "      <td>0</td>\n",
       "      <td>0</td>\n",
       "      <td>0</td>\n",
       "      <td>0</td>\n",
       "    </tr>\n",
       "    <tr>\n",
       "      <th>70980</th>\n",
       "      <td>37856</td>\n",
       "      <td>37860</td>\n",
       "      <td>4728890</td>\n",
       "      <td>166</td>\n",
       "      <td>36</td>\n",
       "      <td>9</td>\n",
       "      <td>0.0</td>\n",
       "      <td>0</td>\n",
       "      <td>0</td>\n",
       "      <td>0</td>\n",
       "      <td>0</td>\n",
       "      <td>0</td>\n",
       "      <td>0</td>\n",
       "      <td>0</td>\n",
       "      <td>0</td>\n",
       "      <td>0</td>\n",
       "    </tr>\n",
       "    <tr>\n",
       "      <th>70981</th>\n",
       "      <td>37877</td>\n",
       "      <td>37850</td>\n",
       "      <td>309910</td>\n",
       "      <td>407</td>\n",
       "      <td>36</td>\n",
       "      <td>0</td>\n",
       "      <td>0.0</td>\n",
       "      <td>0</td>\n",
       "      <td>0</td>\n",
       "      <td>0</td>\n",
       "      <td>0</td>\n",
       "      <td>0</td>\n",
       "      <td>0</td>\n",
       "      <td>0</td>\n",
       "      <td>0</td>\n",
       "      <td>0</td>\n",
       "    </tr>\n",
       "    <tr>\n",
       "      <th>70982</th>\n",
       "      <td>37895</td>\n",
       "      <td>37871</td>\n",
       "      <td>309950</td>\n",
       "      <td>245</td>\n",
       "      <td>36</td>\n",
       "      <td>0</td>\n",
       "      <td>0.0</td>\n",
       "      <td>0</td>\n",
       "      <td>0</td>\n",
       "      <td>0</td>\n",
       "      <td>0</td>\n",
       "      <td>0</td>\n",
       "      <td>0</td>\n",
       "      <td>0</td>\n",
       "      <td>0</td>\n",
       "      <td>0</td>\n",
       "    </tr>\n",
       "  </tbody>\n",
       "</table>\n",
       "<p>70983 rows × 16 columns</p>\n",
       "</div>"
      ],
      "text/plain": [
       "          0      1        2    3   4    5    6   7   8   9   10  11  12  13  \\\n",
       "0      31017  30686   640120  684  24   55  0.0   0   0   0   0   0   0   0   \n",
       "1      40651  40669  3976160  340  28   23  0.0   0   0   0   0   0   0   0   \n",
       "2      15202  15358  1417450  642  36  322  0.0   0   0   0   0   0   0   0   \n",
       "3      15276  15427  1417420  642  36  261  0.0   0   0   0   0   0   0   0   \n",
       "4      15358  15473  1417460  294  36   83  0.0   0   0   0   0   0   0   0   \n",
       "...      ...    ...      ...  ...  ..  ...  ...  ..  ..  ..  ..  ..  ..  ..   \n",
       "70978  37860  37869  4728880  195  36    6  0.0   0   0   0   0   0   0   0   \n",
       "70979  37860  37862  4728870  195  36    1  0.0   0   0   0   0   0   0   0   \n",
       "70980  37856  37860  4728890  166  36    9  0.0   0   0   0   0   0   0   0   \n",
       "70981  37877  37850   309910  407  36    0  0.0   0   0   0   0   0   0   0   \n",
       "70982  37895  37871   309950  245  36    0  0.0   0   0   0   0   0   0   0   \n",
       "\n",
       "       14  15  \n",
       "0       0   0  \n",
       "1       0   0  \n",
       "2       0   0  \n",
       "3       0   0  \n",
       "4       0   0  \n",
       "...    ..  ..  \n",
       "70978   0   0  \n",
       "70979   0   0  \n",
       "70980   0   0  \n",
       "70981   0   0  \n",
       "70982   0   0  \n",
       "\n",
       "[70983 rows x 16 columns]"
      ]
     },
     "execution_count": 43,
     "metadata": {},
     "output_type": "execute_result"
    }
   ],
   "source": [
    "# B_matrix_weighted_df"
   ]
  },
  {
   "cell_type": "code",
   "execution_count": 55,
   "metadata": {},
   "outputs": [
    {
     "name": "stdout",
     "output_type": "stream",
     "text": [
      "Number of node pairs updated in B_matrix_weighted: 745\n"
     ]
    }
   ],
   "source": [
    "print('Number of node pairs updated in B_matrix_weighted: ' + str(len(B_matrix_weighted_array[B_matrix_weighted_array[:, 6] != 0])))"
   ]
  },
  {
   "cell_type": "code",
   "execution_count": 57,
   "metadata": {},
   "outputs": [],
   "source": [
    "# Convert B_matrix_weighted_df back to a numpy array\n",
    "\n",
    "# B_matrix_weighted_updated = B_matrix_weighted_df.to_numpy()\n",
    "\n",
    "# Export B_matrix_weighted_updated as a pickle file\n",
    "\n",
    "with open('B_matrix_weighted_updated.pickle', 'wb') as handle:\n",
    "    pickle.dump(B_matrix_weighted_array, handle, protocol=pickle.HIGHEST_PROTOCOL)"
   ]
  }
 ],
 "metadata": {
  "kernelspec": {
   "display_name": "Task_1_Graph_Junwon-uzoEHbxJ",
   "language": "python",
   "name": "python3"
  },
  "language_info": {
   "codemirror_mode": {
    "name": "ipython",
    "version": 3
   },
   "file_extension": ".py",
   "mimetype": "text/x-python",
   "name": "python",
   "nbconvert_exporter": "python",
   "pygments_lexer": "ipython3",
   "version": "3.10.2"
  }
 },
 "nbformat": 4,
 "nbformat_minor": 2
}
