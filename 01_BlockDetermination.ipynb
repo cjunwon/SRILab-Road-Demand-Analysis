{
 "cells": [
  {
   "cell_type": "code",
   "execution_count": 46,
   "metadata": {},
   "outputs": [],
   "source": [
    "import geopandas as gpd\n",
    "import pandas as pd\n",
    "import numpy as np\n",
    "import pickle\n",
    "from shapely import Point, Polygon\n",
    "from shapely.ops import nearest_points\n",
    "from rtree import index"
   ]
  },
  {
   "cell_type": "code",
   "execution_count": 47,
   "metadata": {},
   "outputs": [],
   "source": [
    "# Import and subset block data\n",
    "\n",
    "blocks = gpd.read_file('blocks/tl_2020_06037_tabblock20.shp')\n",
    "blocknumbers = np.array(blocks[\"GEOID20\"],dtype=str)\n",
    "blockboundaries = np.array(blocks[\"geometry\"])\n",
    "\n",
    "nodes_edges_weighted = pd.read_pickle('graph_centrality_codes/nodes_edges_weighted.pickle')\n",
    "B_matrix_weighted, node_coordinates_weighted = nodes_edges_weighted\n",
    "Hillside_NodeCoordinate = node_coordinates_weighted[:,0:2]"
   ]
  },
  {
   "cell_type": "code",
   "execution_count": 48,
   "metadata": {},
   "outputs": [
    {
     "name": "stdout",
     "output_type": "stream",
     "text": [
      "91626\n",
      "<class 'numpy.str_'>\n",
      "91626\n",
      "<class 'shapely.geometry.polygon.Polygon'>\n",
      "50124\n",
      "<class 'numpy.ndarray'>\n"
     ]
    }
   ],
   "source": [
    "# EDA\n",
    "\n",
    "print(len(blocknumbers))\n",
    "print(type(blocknumbers[0]))\n",
    "print(len(blockboundaries))\n",
    "print(type(blockboundaries[0]))\n",
    "\n",
    "print(len(Hillside_NodeCoordinate))\n",
    "print(type(Hillside_NodeCoordinate))"
   ]
  },
  {
   "cell_type": "code",
   "execution_count": 49,
   "metadata": {},
   "outputs": [],
   "source": [
    "# INITIAL APPROACH: Using for loops to check each node coordinate against each block boundary (very slow)\n",
    "\n",
    "# Node_Block = np.empty((0, 4), dtype=object)\n",
    "\n",
    "# if len(blockboundaries) != len(blocknumbers):\n",
    "#     print(\"Error: Length of blockboundaries and blocknumbers do not match\")\n",
    "\n",
    "# for i in range(4):\n",
    "#     for j in range(len(blockboundaries)):\n",
    "#         if blockboundaries[j].contains(Point(Hillside_NodeCoordinate[i])):\n",
    "#             row = [Hillside_NodeCoordinate[i][0], Hillside_NodeCoordinate[i][1], blocknumbers[j], blockboundaries[j]]\n",
    "#             Node_Block = np.append(Node_Block, [row], axis=0)\n",
    "#         else:\n",
    "#             continue"
   ]
  },
  {
   "cell_type": "code",
   "execution_count": 50,
   "metadata": {},
   "outputs": [],
   "source": [
    "# SECOND APPROACH: Using list comprehension to check each node coordinate against each block boundary (equally very slow)\n",
    "\n",
    "# Node_Block = []\n",
    "\n",
    "# if len(blockboundaries) != len(blocknumbers):\n",
    "#     print(\"Error: Length of blockboundaries and blocknumbers do not match\")\n",
    "\n",
    "# Node_Block = [[Hillside_NodeCoordinate[i], blocknumbers[j], blockboundaries[j]] for i in range(4) for j in range(len(blockboundaries)) if blockboundaries[j].contains(Point(Hillside_NodeCoordinate[i]))]"
   ]
  },
  {
   "cell_type": "code",
   "execution_count": 51,
   "metadata": {},
   "outputs": [],
   "source": [
    "# FINAL APPROACH: Using R-tree index to check each node coordinate against each block boundary (significantly faster - should be scalable to even larger datasets)\n",
    "\n",
    "if len(blockboundaries) != len(blocknumbers):\n",
    "    print(\"Error: Length of blockboundaries and blocknumbers do not match\")\n",
    "\n",
    "# Create an R-tree index\n",
    "idx = index.Index()\n",
    "for i, boundary in enumerate(blockboundaries):\n",
    "    idx.insert(i, boundary.bounds)"
   ]
  },
  {
   "cell_type": "code",
   "execution_count": 52,
   "metadata": {},
   "outputs": [],
   "source": [
    "Node_Block = []\n",
    "Unidentified_Nodes = []\n",
    "\n",
    "for i in range(len(Hillside_NodeCoordinate)):\n",
    "    coord = Hillside_NodeCoordinate[i]\n",
    "    possible_blocks = list(idx.intersection((coord[0], coord[1], coord[0], coord[1])))\n",
    "    for block_idx in possible_blocks:\n",
    "        if blockboundaries[block_idx].contains(Point(coord[0], coord[1])):\n",
    "            Node_Block.append([i, blocknumbers[block_idx], blockboundaries[block_idx]])\n",
    "\n",
    "Identified_Nodes = np.array([row[0] for row in Node_Block])"
   ]
  },
  {
   "cell_type": "code",
   "execution_count": 53,
   "metadata": {},
   "outputs": [
    {
     "name": "stdout",
     "output_type": "stream",
     "text": [
      "Total nodes identified: 50122 \n",
      "Nodes out of bounds: 2 \n",
      "Unique blocknumbers: 24415\n"
     ]
    }
   ],
   "source": [
    "total_nodes_identified = len(Node_Block)\n",
    "\n",
    "total_nodes_out_of_bounds = len(Hillside_NodeCoordinate) - total_nodes_identified\n",
    "\n",
    "extracted_blocknumbers = np.array([item[1] for item in Node_Block])\n",
    "\n",
    "unique_blocknumbers = np.unique(extracted_blocknumbers)\n",
    "\n",
    "unique_blocknumbers_count = len(unique_blocknumbers)\n",
    "\n",
    "print(\"Total nodes identified: \" + str(total_nodes_identified), \"\\nNodes out of bounds: \" + str(total_nodes_out_of_bounds), \"\\nUnique blocknumbers: \" + str(unique_blocknumbers_count))"
   ]
  },
  {
   "cell_type": "code",
   "execution_count": 54,
   "metadata": {},
   "outputs": [],
   "source": [
    "# Make a list with the first element in Node_Block\n",
    "\n",
    "Identified_Nodes_Index = [item[0] for item in Node_Block]"
   ]
  },
  {
   "cell_type": "code",
   "execution_count": 55,
   "metadata": {},
   "outputs": [],
   "source": [
    "# Random check to see if the identified nodes are in the correct block\n",
    "\n",
    "# Subset 10 random node indices from Identified_Nodes_Index\n",
    "\n",
    "np.random.seed(123)\n",
    "random_numbers = np.random.choice(Identified_Nodes_Index, 10, replace=False)"
   ]
  },
  {
   "cell_type": "code",
   "execution_count": 56,
   "metadata": {},
   "outputs": [
    {
     "name": "stdout",
     "output_type": "stream",
     "text": [
      "Node coordinate 41016 with coordinates [-118.16236153   34.07909363] is in block 060372016022009\n",
      "Node coordinate 41192 with coordinates [-118.29844188   33.7563765 ] is in block 060372963002000\n",
      "Node coordinate 34879 with coordinates [-118.26066232   34.06726872] is in block 060372083022000\n",
      "Node coordinate 11598 with coordinates [-118.45655572   34.28640521] is in block 060371066491000\n",
      "Node coordinate 13260 with coordinates [-118.44301205   34.0506783 ] is in block 060372655242001\n",
      "Node coordinate 37428 with coordinates [-118.23298138   34.1082143 ] is in block 060371864041000\n",
      "Node coordinate 29132 with coordinates [-118.29788057   34.09084238] is in block 060371912041001\n",
      "Node coordinate 42225 with coordinates [-118.54530454   34.25458498] is in block 060371112041012\n",
      "Node coordinate 30601 with coordinates [-118.28852464   34.10179367] is in block 060371891012007\n",
      "Node coordinate 2263 with coordinates [-118.59290332   34.22820298] is in block 060371134252001\n"
     ]
    }
   ],
   "source": [
    "# Check if the random nodes are in the correct block\n",
    "\n",
    "for i in random_numbers:\n",
    "    if Node_Block[i][2].contains(Point(Hillside_NodeCoordinate[i][0], Hillside_NodeCoordinate[i][1])):\n",
    "        print('Node coordinate ' + str(Node_Block[i][0]) + ' with coordinates ' + str(Hillside_NodeCoordinate[i]) + ' is in block ' + str(Node_Block[i][1]))\n",
    "    else:\n",
    "        print('ERROR: Node coordinate ' + str(Node_Block[i][0]) + ' with coordinates ' + str(Hillside_NodeCoordinate[i]) + ' is not in block ' + str(Node_Block[i][1]))"
   ]
  },
  {
   "cell_type": "code",
   "execution_count": 57,
   "metadata": {},
   "outputs": [
    {
     "name": "stdout",
     "output_type": "stream",
     "text": [
      "[46025, 48626]\n"
     ]
    }
   ],
   "source": [
    "# Identify nodes that are not in any block\n",
    "\n",
    "for i in range(len(Hillside_NodeCoordinate)):\n",
    "    if i not in Identified_Nodes:\n",
    "        Unidentified_Nodes.append(i)\n",
    "\n",
    "print('Nodes without block placement: ' + str(Unidentified_Nodes))"
   ]
  },
  {
   "cell_type": "code",
   "execution_count": 58,
   "metadata": {},
   "outputs": [
    {
     "data": {
      "text/plain": [
       "array([[-118.66764857,   34.17992453],\n",
       "       [-118.66729721,   34.17746687],\n",
       "       [-118.66691275,   34.1815081 ],\n",
       "       ...,\n",
       "       [-118.4079475 ,   33.97965507],\n",
       "       [-118.22871315,   33.78572582],\n",
       "       [-118.22876022,   33.78619129]])"
      ]
     },
     "execution_count": 58,
     "metadata": {},
     "output_type": "execute_result"
    }
   ],
   "source": [
    "Hillside_NodeCoordinate"
   ]
  },
  {
   "cell_type": "code",
   "execution_count": 59,
   "metadata": {},
   "outputs": [
    {
     "name": "stdout",
     "output_type": "stream",
     "text": [
      "Node coordinate 46025 with coordinates [-118.66781189   34.20678701] is closest to block ['060371344241013']\n",
      "Node coordinate 48626 with coordinates [-118.66817614   34.18493116] is closest to block ['060371352052002']\n"
     ]
    }
   ],
   "source": [
    "for i in Unidentified_Nodes:\n",
    "    closest_block = min(blockboundaries, key=lambda x: x.distance(Point(Hillside_NodeCoordinate[i][0], Hillside_NodeCoordinate[i][1])))\n",
    "    closest_block_idx = np.where(blockboundaries == closest_block)\n",
    "    closest_block_number = blocknumbers[closest_block_idx]\n",
    "    print('Node coordinate ' + str(i) + ' with coordinates ' + str(Hillside_NodeCoordinate[i]) + ' is closest to block ' + str(closest_block_number))\n",
    "    Node_Block.insert(i, [i, closest_block_number, closest_block])"
   ]
  },
  {
   "cell_type": "code",
   "execution_count": 62,
   "metadata": {},
   "outputs": [
    {
     "name": "stdout",
     "output_type": "stream",
     "text": [
      "Total nodes identified: 50124\n"
     ]
    }
   ],
   "source": [
    "total_nodes_identified = len(Node_Block)\n",
    "\n",
    "print(\"Total nodes identified: \" + str(total_nodes_identified))"
   ]
  },
  {
   "cell_type": "code",
   "execution_count": 63,
   "metadata": {},
   "outputs": [],
   "source": [
    "# 060371352051001"
   ]
  },
  {
   "cell_type": "code",
   "execution_count": 64,
   "metadata": {},
   "outputs": [],
   "source": [
    "with open('Node_Block.pkl', 'wb') as f:\n",
    "    pickle.dump(Node_Block, f)"
   ]
  }
 ],
 "metadata": {
  "kernelspec": {
   "display_name": "Python 3",
   "language": "python",
   "name": "python3"
  },
  "language_info": {
   "codemirror_mode": {
    "name": "ipython",
    "version": 3
   },
   "file_extension": ".py",
   "mimetype": "text/x-python",
   "name": "python",
   "nbconvert_exporter": "python",
   "pygments_lexer": "ipython3",
   "version": "3.10.2"
  },
  "orig_nbformat": 4
 },
 "nbformat": 4,
 "nbformat_minor": 2
}
